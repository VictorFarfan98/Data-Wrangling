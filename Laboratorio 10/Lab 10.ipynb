{
 "cells": [
  {
   "cell_type": "code",
   "execution_count": 1,
   "metadata": {},
   "outputs": [],
   "source": [
    "# Importing required libraries.\n",
    "import pandas as pd\n",
    "import numpy as np\n",
    "from scipy import stats\n",
    "import seaborn as sns #visualisation\n",
    "import matplotlib.pyplot as plt #visualisation\n",
    "%matplotlib inline \n",
    "sns.set(color_codes=True)"
   ]
  },
  {
   "cell_type": "markdown",
   "metadata": {},
   "source": [
    "## Movies Dataframe"
   ]
  },
  {
   "cell_type": "code",
   "execution_count": 2,
   "metadata": {
    "scrolled": true
   },
   "outputs": [
    {
     "data": {
      "text/html": [
       "<div>\n",
       "<style scoped>\n",
       "    .dataframe tbody tr th:only-of-type {\n",
       "        vertical-align: middle;\n",
       "    }\n",
       "\n",
       "    .dataframe tbody tr th {\n",
       "        vertical-align: top;\n",
       "    }\n",
       "\n",
       "    .dataframe thead th {\n",
       "        text-align: right;\n",
       "    }\n",
       "</style>\n",
       "<table border=\"1\" class=\"dataframe\">\n",
       "  <thead>\n",
       "    <tr style=\"text-align: right;\">\n",
       "      <th></th>\n",
       "      <th>Unnamed: 0</th>\n",
       "      <th>budget</th>\n",
       "      <th>id</th>\n",
       "      <th>imdb_id</th>\n",
       "      <th>original_language</th>\n",
       "      <th>original_title</th>\n",
       "      <th>popularity</th>\n",
       "      <th>release_year</th>\n",
       "      <th>release_date</th>\n",
       "      <th>revenue</th>\n",
       "      <th>runtime</th>\n",
       "      <th>title</th>\n",
       "      <th>vote_average</th>\n",
       "      <th>vote_count</th>\n",
       "    </tr>\n",
       "  </thead>\n",
       "  <tbody>\n",
       "    <tr>\n",
       "      <th>0</th>\n",
       "      <td>1</td>\n",
       "      <td>30000000.0</td>\n",
       "      <td>862.0</td>\n",
       "      <td>tt0114709</td>\n",
       "      <td>en</td>\n",
       "      <td>Toy Story</td>\n",
       "      <td>21.946943</td>\n",
       "      <td>1995.0</td>\n",
       "      <td>10/30/95</td>\n",
       "      <td>373554033.0</td>\n",
       "      <td>81.0</td>\n",
       "      <td>Toy Story</td>\n",
       "      <td>7.7</td>\n",
       "      <td>5415.0</td>\n",
       "    </tr>\n",
       "    <tr>\n",
       "      <th>1</th>\n",
       "      <td>2</td>\n",
       "      <td>65000000.0</td>\n",
       "      <td>8844.0</td>\n",
       "      <td>tt0113497</td>\n",
       "      <td>en</td>\n",
       "      <td>Jumanji</td>\n",
       "      <td>17.015539</td>\n",
       "      <td>1995.0</td>\n",
       "      <td>12/15/95</td>\n",
       "      <td>262797249.0</td>\n",
       "      <td>104.0</td>\n",
       "      <td>Jumanji</td>\n",
       "      <td>6.9</td>\n",
       "      <td>2413.0</td>\n",
       "    </tr>\n",
       "    <tr>\n",
       "      <th>2</th>\n",
       "      <td>3</td>\n",
       "      <td>16000000.0</td>\n",
       "      <td>31357.0</td>\n",
       "      <td>tt0114885</td>\n",
       "      <td>en</td>\n",
       "      <td>Waiting to Exhale</td>\n",
       "      <td>3.859495</td>\n",
       "      <td>1995.0</td>\n",
       "      <td>12/22/95</td>\n",
       "      <td>81452156.0</td>\n",
       "      <td>127.0</td>\n",
       "      <td>Waiting to Exhale</td>\n",
       "      <td>6.1</td>\n",
       "      <td>34.0</td>\n",
       "    </tr>\n",
       "    <tr>\n",
       "      <th>3</th>\n",
       "      <td>4</td>\n",
       "      <td>0.0</td>\n",
       "      <td>45325.0</td>\n",
       "      <td>tt0112302</td>\n",
       "      <td>en</td>\n",
       "      <td>Tom and Huck</td>\n",
       "      <td>2.561161</td>\n",
       "      <td>1995.0</td>\n",
       "      <td>12/22/95</td>\n",
       "      <td>0.0</td>\n",
       "      <td>97.0</td>\n",
       "      <td>Tom and Huck</td>\n",
       "      <td>5.4</td>\n",
       "      <td>45.0</td>\n",
       "    </tr>\n",
       "    <tr>\n",
       "      <th>4</th>\n",
       "      <td>5</td>\n",
       "      <td>35000000.0</td>\n",
       "      <td>9091.0</td>\n",
       "      <td>tt0114576</td>\n",
       "      <td>en</td>\n",
       "      <td>Sudden Death</td>\n",
       "      <td>5.231580</td>\n",
       "      <td>1995.0</td>\n",
       "      <td>12/22/95</td>\n",
       "      <td>64350171.0</td>\n",
       "      <td>106.0</td>\n",
       "      <td>Sudden Death</td>\n",
       "      <td>5.5</td>\n",
       "      <td>174.0</td>\n",
       "    </tr>\n",
       "  </tbody>\n",
       "</table>\n",
       "</div>"
      ],
      "text/plain": [
       "   Unnamed: 0      budget       id    imdb_id original_language  \\\n",
       "0           1  30000000.0    862.0  tt0114709                en   \n",
       "1           2  65000000.0   8844.0  tt0113497                en   \n",
       "2           3  16000000.0  31357.0  tt0114885                en   \n",
       "3           4         0.0  45325.0  tt0112302                en   \n",
       "4           5  35000000.0   9091.0  tt0114576                en   \n",
       "\n",
       "      original_title  popularity  release_year release_date      revenue  \\\n",
       "0          Toy Story   21.946943        1995.0     10/30/95  373554033.0   \n",
       "1            Jumanji   17.015539        1995.0     12/15/95  262797249.0   \n",
       "2  Waiting to Exhale    3.859495        1995.0     12/22/95   81452156.0   \n",
       "3       Tom and Huck    2.561161        1995.0     12/22/95          0.0   \n",
       "4       Sudden Death    5.231580        1995.0     12/22/95   64350171.0   \n",
       "\n",
       "   runtime              title  vote_average  vote_count  \n",
       "0     81.0          Toy Story           7.7      5415.0  \n",
       "1    104.0            Jumanji           6.9      2413.0  \n",
       "2    127.0  Waiting to Exhale           6.1        34.0  \n",
       "3     97.0       Tom and Huck           5.4        45.0  \n",
       "4    106.0       Sudden Death           5.5       174.0  "
      ]
     },
     "execution_count": 2,
     "metadata": {},
     "output_type": "execute_result"
    }
   ],
   "source": [
    "movies = pd.read_csv(\"movies.csv\")\n",
    "# To display the top 5 rows\n",
    "movies.head(5)"
   ]
  },
  {
   "cell_type": "code",
   "execution_count": 3,
   "metadata": {},
   "outputs": [
    {
     "data": {
      "text/plain": [
       "(13687, 14)"
      ]
     },
     "execution_count": 3,
     "metadata": {},
     "output_type": "execute_result"
    }
   ],
   "source": [
    "# Total number of rows and columns\n",
    "movies.shape"
   ]
  },
  {
   "cell_type": "markdown",
   "metadata": {},
   "source": [
    "### Data types"
   ]
  },
  {
   "cell_type": "code",
   "execution_count": 4,
   "metadata": {},
   "outputs": [
    {
     "data": {
      "text/plain": [
       "Unnamed: 0             int64\n",
       "budget               float64\n",
       "id                   float64\n",
       "imdb_id               object\n",
       "original_language     object\n",
       "original_title        object\n",
       "popularity           float64\n",
       "release_year         float64\n",
       "release_date          object\n",
       "revenue              float64\n",
       "runtime              float64\n",
       "title                 object\n",
       "vote_average         float64\n",
       "vote_count           float64\n",
       "dtype: object"
      ]
     },
     "execution_count": 4,
     "metadata": {},
     "output_type": "execute_result"
    }
   ],
   "source": [
    "# Checking the data type\n",
    "movies.dtypes"
   ]
  },
  {
   "cell_type": "markdown",
   "metadata": {},
   "source": [
    "### Drop irrelevant columns"
   ]
  },
  {
   "cell_type": "code",
   "execution_count": 5,
   "metadata": {},
   "outputs": [
    {
     "data": {
      "text/html": [
       "<div>\n",
       "<style scoped>\n",
       "    .dataframe tbody tr th:only-of-type {\n",
       "        vertical-align: middle;\n",
       "    }\n",
       "\n",
       "    .dataframe tbody tr th {\n",
       "        vertical-align: top;\n",
       "    }\n",
       "\n",
       "    .dataframe thead th {\n",
       "        text-align: right;\n",
       "    }\n",
       "</style>\n",
       "<table border=\"1\" class=\"dataframe\">\n",
       "  <thead>\n",
       "    <tr style=\"text-align: right;\">\n",
       "      <th></th>\n",
       "      <th>budget</th>\n",
       "      <th>id</th>\n",
       "      <th>popularity</th>\n",
       "      <th>release_year</th>\n",
       "      <th>revenue</th>\n",
       "      <th>runtime</th>\n",
       "      <th>title</th>\n",
       "      <th>vote_average</th>\n",
       "      <th>vote_count</th>\n",
       "    </tr>\n",
       "  </thead>\n",
       "  <tbody>\n",
       "    <tr>\n",
       "      <th>0</th>\n",
       "      <td>30000000.0</td>\n",
       "      <td>862.0</td>\n",
       "      <td>21.946943</td>\n",
       "      <td>1995.0</td>\n",
       "      <td>373554033.0</td>\n",
       "      <td>81.0</td>\n",
       "      <td>Toy Story</td>\n",
       "      <td>7.7</td>\n",
       "      <td>5415.0</td>\n",
       "    </tr>\n",
       "    <tr>\n",
       "      <th>1</th>\n",
       "      <td>65000000.0</td>\n",
       "      <td>8844.0</td>\n",
       "      <td>17.015539</td>\n",
       "      <td>1995.0</td>\n",
       "      <td>262797249.0</td>\n",
       "      <td>104.0</td>\n",
       "      <td>Jumanji</td>\n",
       "      <td>6.9</td>\n",
       "      <td>2413.0</td>\n",
       "    </tr>\n",
       "    <tr>\n",
       "      <th>2</th>\n",
       "      <td>16000000.0</td>\n",
       "      <td>31357.0</td>\n",
       "      <td>3.859495</td>\n",
       "      <td>1995.0</td>\n",
       "      <td>81452156.0</td>\n",
       "      <td>127.0</td>\n",
       "      <td>Waiting to Exhale</td>\n",
       "      <td>6.1</td>\n",
       "      <td>34.0</td>\n",
       "    </tr>\n",
       "    <tr>\n",
       "      <th>3</th>\n",
       "      <td>0.0</td>\n",
       "      <td>45325.0</td>\n",
       "      <td>2.561161</td>\n",
       "      <td>1995.0</td>\n",
       "      <td>0.0</td>\n",
       "      <td>97.0</td>\n",
       "      <td>Tom and Huck</td>\n",
       "      <td>5.4</td>\n",
       "      <td>45.0</td>\n",
       "    </tr>\n",
       "    <tr>\n",
       "      <th>4</th>\n",
       "      <td>35000000.0</td>\n",
       "      <td>9091.0</td>\n",
       "      <td>5.231580</td>\n",
       "      <td>1995.0</td>\n",
       "      <td>64350171.0</td>\n",
       "      <td>106.0</td>\n",
       "      <td>Sudden Death</td>\n",
       "      <td>5.5</td>\n",
       "      <td>174.0</td>\n",
       "    </tr>\n",
       "  </tbody>\n",
       "</table>\n",
       "</div>"
      ],
      "text/plain": [
       "       budget       id  popularity  release_year      revenue  runtime  \\\n",
       "0  30000000.0    862.0   21.946943        1995.0  373554033.0     81.0   \n",
       "1  65000000.0   8844.0   17.015539        1995.0  262797249.0    104.0   \n",
       "2  16000000.0  31357.0    3.859495        1995.0   81452156.0    127.0   \n",
       "3         0.0  45325.0    2.561161        1995.0          0.0     97.0   \n",
       "4  35000000.0   9091.0    5.231580        1995.0   64350171.0    106.0   \n",
       "\n",
       "               title  vote_average  vote_count  \n",
       "0          Toy Story           7.7      5415.0  \n",
       "1            Jumanji           6.9      2413.0  \n",
       "2  Waiting to Exhale           6.1        34.0  \n",
       "3       Tom and Huck           5.4        45.0  \n",
       "4       Sudden Death           5.5       174.0  "
      ]
     },
     "execution_count": 5,
     "metadata": {},
     "output_type": "execute_result"
    }
   ],
   "source": [
    "movies = movies.drop(['original_title', 'release_date', \"Unnamed: 0\", \"imdb_id\", \"original_language\"], axis=1)\n",
    "movies.head(5)"
   ]
  },
  {
   "cell_type": "code",
   "execution_count": 6,
   "metadata": {},
   "outputs": [
    {
     "data": {
      "text/plain": [
       "(13687, 9)"
      ]
     },
     "execution_count": 6,
     "metadata": {},
     "output_type": "execute_result"
    }
   ],
   "source": [
    "# Total number of rows and columns\n",
    "movies.shape"
   ]
  },
  {
   "cell_type": "markdown",
   "metadata": {},
   "source": [
    "## Cleaning the Dataframe"
   ]
  },
  {
   "cell_type": "markdown",
   "metadata": {},
   "source": [
    "### Removing rows with null values"
   ]
  },
  {
   "cell_type": "code",
   "execution_count": 7,
   "metadata": {},
   "outputs": [
    {
     "name": "stdout",
     "output_type": "stream",
     "text": [
      "budget           1\n",
      "id               1\n",
      "popularity       2\n",
      "release_year    17\n",
      "revenue          2\n",
      "runtime         91\n",
      "title            2\n",
      "vote_average     2\n",
      "vote_count       2\n",
      "dtype: int64\n"
     ]
    }
   ],
   "source": [
    "print(movies.isnull().sum())"
   ]
  },
  {
   "cell_type": "code",
   "execution_count": 8,
   "metadata": {},
   "outputs": [
    {
     "data": {
      "text/plain": [
       "budget          13579\n",
       "id              13579\n",
       "popularity      13579\n",
       "release_year    13579\n",
       "revenue         13579\n",
       "runtime         13579\n",
       "title           13579\n",
       "vote_average    13579\n",
       "vote_count      13579\n",
       "dtype: int64"
      ]
     },
     "execution_count": 8,
     "metadata": {},
     "output_type": "execute_result"
    }
   ],
   "source": [
    "movies = movies.dropna() \n",
    "movies.count()"
   ]
  },
  {
   "cell_type": "code",
   "execution_count": null,
   "metadata": {},
   "outputs": [],
   "source": []
  },
  {
   "cell_type": "markdown",
   "metadata": {},
   "source": [
    "## Ratings Dataframe"
   ]
  },
  {
   "cell_type": "code",
   "execution_count": 9,
   "metadata": {},
   "outputs": [
    {
     "data": {
      "text/html": [
       "<div>\n",
       "<style scoped>\n",
       "    .dataframe tbody tr th:only-of-type {\n",
       "        vertical-align: middle;\n",
       "    }\n",
       "\n",
       "    .dataframe tbody tr th {\n",
       "        vertical-align: top;\n",
       "    }\n",
       "\n",
       "    .dataframe thead th {\n",
       "        text-align: right;\n",
       "    }\n",
       "</style>\n",
       "<table border=\"1\" class=\"dataframe\">\n",
       "  <thead>\n",
       "    <tr style=\"text-align: right;\">\n",
       "      <th></th>\n",
       "      <th>Unnamed: 0</th>\n",
       "      <th>userId</th>\n",
       "      <th>movieId</th>\n",
       "      <th>rating</th>\n",
       "      <th>timestamp</th>\n",
       "    </tr>\n",
       "  </thead>\n",
       "  <tbody>\n",
       "    <tr>\n",
       "      <th>0</th>\n",
       "      <td>1</td>\n",
       "      <td>1.0</td>\n",
       "      <td>10474.0</td>\n",
       "      <td>4.5</td>\n",
       "      <td>1.425942e+09</td>\n",
       "    </tr>\n",
       "    <tr>\n",
       "      <th>1</th>\n",
       "      <td>2</td>\n",
       "      <td>1.0</td>\n",
       "      <td>2108.0</td>\n",
       "      <td>4.0</td>\n",
       "      <td>1.425942e+09</td>\n",
       "    </tr>\n",
       "    <tr>\n",
       "      <th>2</th>\n",
       "      <td>3</td>\n",
       "      <td>1.0</td>\n",
       "      <td>745.0</td>\n",
       "      <td>4.5</td>\n",
       "      <td>1.425941e+09</td>\n",
       "    </tr>\n",
       "    <tr>\n",
       "      <th>3</th>\n",
       "      <td>4</td>\n",
       "      <td>1.0</td>\n",
       "      <td>77.0</td>\n",
       "      <td>4.0</td>\n",
       "      <td>1.425942e+09</td>\n",
       "    </tr>\n",
       "    <tr>\n",
       "      <th>4</th>\n",
       "      <td>5</td>\n",
       "      <td>1.0</td>\n",
       "      <td>141.0</td>\n",
       "      <td>5.0</td>\n",
       "      <td>1.425941e+09</td>\n",
       "    </tr>\n",
       "  </tbody>\n",
       "</table>\n",
       "</div>"
      ],
      "text/plain": [
       "   Unnamed: 0  userId  movieId  rating     timestamp\n",
       "0           1     1.0  10474.0     4.5  1.425942e+09\n",
       "1           2     1.0   2108.0     4.0  1.425942e+09\n",
       "2           3     1.0    745.0     4.5  1.425941e+09\n",
       "3           4     1.0     77.0     4.0  1.425942e+09\n",
       "4           5     1.0    141.0     5.0  1.425941e+09"
      ]
     },
     "execution_count": 9,
     "metadata": {},
     "output_type": "execute_result"
    }
   ],
   "source": [
    "ratings = pd.read_csv(\"ratings.csv\")\n",
    "# To display the top 5 rows\n",
    "ratings.head(5)"
   ]
  },
  {
   "cell_type": "code",
   "execution_count": 10,
   "metadata": {},
   "outputs": [
    {
     "data": {
      "text/plain": [
       "(8177973, 5)"
      ]
     },
     "execution_count": 10,
     "metadata": {},
     "output_type": "execute_result"
    }
   ],
   "source": [
    "ratings.shape"
   ]
  },
  {
   "cell_type": "markdown",
   "metadata": {},
   "source": [
    "### Datatypes"
   ]
  },
  {
   "cell_type": "code",
   "execution_count": 11,
   "metadata": {},
   "outputs": [
    {
     "data": {
      "text/plain": [
       "Unnamed: 0      int64\n",
       "userId        float64\n",
       "movieId       float64\n",
       "rating        float64\n",
       "timestamp     float64\n",
       "dtype: object"
      ]
     },
     "execution_count": 11,
     "metadata": {},
     "output_type": "execute_result"
    }
   ],
   "source": [
    "# Checking the data type\n",
    "ratings.dtypes"
   ]
  },
  {
   "cell_type": "markdown",
   "metadata": {},
   "source": [
    "### Drop irrelevant columns"
   ]
  },
  {
   "cell_type": "code",
   "execution_count": 12,
   "metadata": {},
   "outputs": [
    {
     "data": {
      "text/html": [
       "<div>\n",
       "<style scoped>\n",
       "    .dataframe tbody tr th:only-of-type {\n",
       "        vertical-align: middle;\n",
       "    }\n",
       "\n",
       "    .dataframe tbody tr th {\n",
       "        vertical-align: top;\n",
       "    }\n",
       "\n",
       "    .dataframe thead th {\n",
       "        text-align: right;\n",
       "    }\n",
       "</style>\n",
       "<table border=\"1\" class=\"dataframe\">\n",
       "  <thead>\n",
       "    <tr style=\"text-align: right;\">\n",
       "      <th></th>\n",
       "      <th>movieId</th>\n",
       "      <th>rating</th>\n",
       "    </tr>\n",
       "  </thead>\n",
       "  <tbody>\n",
       "    <tr>\n",
       "      <th>0</th>\n",
       "      <td>10474.0</td>\n",
       "      <td>4.5</td>\n",
       "    </tr>\n",
       "    <tr>\n",
       "      <th>1</th>\n",
       "      <td>2108.0</td>\n",
       "      <td>4.0</td>\n",
       "    </tr>\n",
       "    <tr>\n",
       "      <th>2</th>\n",
       "      <td>745.0</td>\n",
       "      <td>4.5</td>\n",
       "    </tr>\n",
       "    <tr>\n",
       "      <th>3</th>\n",
       "      <td>77.0</td>\n",
       "      <td>4.0</td>\n",
       "    </tr>\n",
       "    <tr>\n",
       "      <th>4</th>\n",
       "      <td>141.0</td>\n",
       "      <td>5.0</td>\n",
       "    </tr>\n",
       "  </tbody>\n",
       "</table>\n",
       "</div>"
      ],
      "text/plain": [
       "   movieId  rating\n",
       "0  10474.0     4.5\n",
       "1   2108.0     4.0\n",
       "2    745.0     4.5\n",
       "3     77.0     4.0\n",
       "4    141.0     5.0"
      ]
     },
     "execution_count": 12,
     "metadata": {},
     "output_type": "execute_result"
    }
   ],
   "source": [
    "ratings = ratings.drop(['userId', 'timestamp', \"Unnamed: 0\"], axis=1)\n",
    "ratings.head(5)"
   ]
  },
  {
   "cell_type": "code",
   "execution_count": 13,
   "metadata": {},
   "outputs": [
    {
     "data": {
      "text/plain": [
       "(8177973, 2)"
      ]
     },
     "execution_count": 13,
     "metadata": {},
     "output_type": "execute_result"
    }
   ],
   "source": [
    "ratings.shape"
   ]
  },
  {
   "cell_type": "markdown",
   "metadata": {},
   "source": [
    "### Rename movieId column to id"
   ]
  },
  {
   "cell_type": "code",
   "execution_count": 14,
   "metadata": {},
   "outputs": [
    {
     "data": {
      "text/html": [
       "<div>\n",
       "<style scoped>\n",
       "    .dataframe tbody tr th:only-of-type {\n",
       "        vertical-align: middle;\n",
       "    }\n",
       "\n",
       "    .dataframe tbody tr th {\n",
       "        vertical-align: top;\n",
       "    }\n",
       "\n",
       "    .dataframe thead th {\n",
       "        text-align: right;\n",
       "    }\n",
       "</style>\n",
       "<table border=\"1\" class=\"dataframe\">\n",
       "  <thead>\n",
       "    <tr style=\"text-align: right;\">\n",
       "      <th></th>\n",
       "      <th>id</th>\n",
       "      <th>rating</th>\n",
       "    </tr>\n",
       "  </thead>\n",
       "  <tbody>\n",
       "    <tr>\n",
       "      <th>0</th>\n",
       "      <td>10474.0</td>\n",
       "      <td>4.5</td>\n",
       "    </tr>\n",
       "    <tr>\n",
       "      <th>1</th>\n",
       "      <td>2108.0</td>\n",
       "      <td>4.0</td>\n",
       "    </tr>\n",
       "    <tr>\n",
       "      <th>2</th>\n",
       "      <td>745.0</td>\n",
       "      <td>4.5</td>\n",
       "    </tr>\n",
       "    <tr>\n",
       "      <th>3</th>\n",
       "      <td>77.0</td>\n",
       "      <td>4.0</td>\n",
       "    </tr>\n",
       "    <tr>\n",
       "      <th>4</th>\n",
       "      <td>141.0</td>\n",
       "      <td>5.0</td>\n",
       "    </tr>\n",
       "  </tbody>\n",
       "</table>\n",
       "</div>"
      ],
      "text/plain": [
       "        id  rating\n",
       "0  10474.0     4.5\n",
       "1   2108.0     4.0\n",
       "2    745.0     4.5\n",
       "3     77.0     4.0\n",
       "4    141.0     5.0"
      ]
     },
     "execution_count": 14,
     "metadata": {},
     "output_type": "execute_result"
    }
   ],
   "source": [
    "ratings = ratings.rename(columns={\"movieId\":\"id\", \"rating\":\"rating\"})\n",
    "ratings.head()"
   ]
  },
  {
   "cell_type": "markdown",
   "metadata": {},
   "source": [
    "## Cleaning the Dataframe"
   ]
  },
  {
   "cell_type": "markdown",
   "metadata": {},
   "source": [
    "### Removing rows with null values"
   ]
  },
  {
   "cell_type": "code",
   "execution_count": 15,
   "metadata": {},
   "outputs": [
    {
     "name": "stdout",
     "output_type": "stream",
     "text": [
      "id        13503\n",
      "rating        0\n",
      "dtype: int64\n"
     ]
    }
   ],
   "source": [
    "print(ratings.isnull().sum())"
   ]
  },
  {
   "cell_type": "code",
   "execution_count": 16,
   "metadata": {},
   "outputs": [
    {
     "data": {
      "text/plain": [
       "id        8164470\n",
       "rating    8164470\n",
       "dtype: int64"
      ]
     },
     "execution_count": 16,
     "metadata": {},
     "output_type": "execute_result"
    }
   ],
   "source": [
    "ratings = ratings.dropna() \n",
    "ratings.count()"
   ]
  },
  {
   "cell_type": "code",
   "execution_count": 17,
   "metadata": {},
   "outputs": [],
   "source": [
    "### Grouping by movie"
   ]
  },
  {
   "cell_type": "code",
   "execution_count": 18,
   "metadata": {},
   "outputs": [
    {
     "data": {
      "text/plain": [
       "rating    13439\n",
       "dtype: int64"
      ]
     },
     "execution_count": 18,
     "metadata": {},
     "output_type": "execute_result"
    }
   ],
   "source": [
    "ratings = ratings.groupby(['id']).mean()\n",
    "ratings.count()"
   ]
  },
  {
   "cell_type": "markdown",
   "metadata": {},
   "source": [
    "## Merging both Dataframes"
   ]
  },
  {
   "cell_type": "code",
   "execution_count": 19,
   "metadata": {},
   "outputs": [
    {
     "data": {
      "text/html": [
       "<div>\n",
       "<style scoped>\n",
       "    .dataframe tbody tr th:only-of-type {\n",
       "        vertical-align: middle;\n",
       "    }\n",
       "\n",
       "    .dataframe tbody tr th {\n",
       "        vertical-align: top;\n",
       "    }\n",
       "\n",
       "    .dataframe thead th {\n",
       "        text-align: right;\n",
       "    }\n",
       "</style>\n",
       "<table border=\"1\" class=\"dataframe\">\n",
       "  <thead>\n",
       "    <tr style=\"text-align: right;\">\n",
       "      <th></th>\n",
       "      <th>budget</th>\n",
       "      <th>id</th>\n",
       "      <th>popularity</th>\n",
       "      <th>release_year</th>\n",
       "      <th>revenue</th>\n",
       "      <th>runtime</th>\n",
       "      <th>title</th>\n",
       "      <th>vote_average</th>\n",
       "      <th>vote_count</th>\n",
       "      <th>rating</th>\n",
       "    </tr>\n",
       "  </thead>\n",
       "  <tbody>\n",
       "    <tr>\n",
       "      <th>0</th>\n",
       "      <td>30000000.0</td>\n",
       "      <td>862.0</td>\n",
       "      <td>21.946943</td>\n",
       "      <td>1995.0</td>\n",
       "      <td>373554033.0</td>\n",
       "      <td>81.0</td>\n",
       "      <td>Toy Story</td>\n",
       "      <td>7.7</td>\n",
       "      <td>5415.0</td>\n",
       "      <td>3.888157</td>\n",
       "    </tr>\n",
       "    <tr>\n",
       "      <th>1</th>\n",
       "      <td>65000000.0</td>\n",
       "      <td>8844.0</td>\n",
       "      <td>17.015539</td>\n",
       "      <td>1995.0</td>\n",
       "      <td>262797249.0</td>\n",
       "      <td>104.0</td>\n",
       "      <td>Jumanji</td>\n",
       "      <td>6.9</td>\n",
       "      <td>2413.0</td>\n",
       "      <td>3.236953</td>\n",
       "    </tr>\n",
       "    <tr>\n",
       "      <th>2</th>\n",
       "      <td>16000000.0</td>\n",
       "      <td>31357.0</td>\n",
       "      <td>3.859495</td>\n",
       "      <td>1995.0</td>\n",
       "      <td>81452156.0</td>\n",
       "      <td>127.0</td>\n",
       "      <td>Waiting to Exhale</td>\n",
       "      <td>6.1</td>\n",
       "      <td>34.0</td>\n",
       "      <td>2.875713</td>\n",
       "    </tr>\n",
       "    <tr>\n",
       "      <th>3</th>\n",
       "      <td>0.0</td>\n",
       "      <td>45325.0</td>\n",
       "      <td>2.561161</td>\n",
       "      <td>1995.0</td>\n",
       "      <td>0.0</td>\n",
       "      <td>97.0</td>\n",
       "      <td>Tom and Huck</td>\n",
       "      <td>5.4</td>\n",
       "      <td>45.0</td>\n",
       "      <td>3.129191</td>\n",
       "    </tr>\n",
       "    <tr>\n",
       "      <th>4</th>\n",
       "      <td>35000000.0</td>\n",
       "      <td>9091.0</td>\n",
       "      <td>5.231580</td>\n",
       "      <td>1995.0</td>\n",
       "      <td>64350171.0</td>\n",
       "      <td>106.0</td>\n",
       "      <td>Sudden Death</td>\n",
       "      <td>5.5</td>\n",
       "      <td>174.0</td>\n",
       "      <td>3.008365</td>\n",
       "    </tr>\n",
       "  </tbody>\n",
       "</table>\n",
       "</div>"
      ],
      "text/plain": [
       "       budget       id  popularity  release_year      revenue  runtime  \\\n",
       "0  30000000.0    862.0   21.946943        1995.0  373554033.0     81.0   \n",
       "1  65000000.0   8844.0   17.015539        1995.0  262797249.0    104.0   \n",
       "2  16000000.0  31357.0    3.859495        1995.0   81452156.0    127.0   \n",
       "3         0.0  45325.0    2.561161        1995.0          0.0     97.0   \n",
       "4  35000000.0   9091.0    5.231580        1995.0   64350171.0    106.0   \n",
       "\n",
       "               title  vote_average  vote_count    rating  \n",
       "0          Toy Story           7.7      5415.0  3.888157  \n",
       "1            Jumanji           6.9      2413.0  3.236953  \n",
       "2  Waiting to Exhale           6.1        34.0  2.875713  \n",
       "3       Tom and Huck           5.4        45.0  3.129191  \n",
       "4       Sudden Death           5.5       174.0  3.008365  "
      ]
     },
     "execution_count": 19,
     "metadata": {},
     "output_type": "execute_result"
    }
   ],
   "source": [
    "movies_ratings = movies.merge(ratings, on=\"id\", how = 'inner')\n",
    "movies_ratings.head()"
   ]
  },
  {
   "cell_type": "code",
   "execution_count": 20,
   "metadata": {},
   "outputs": [
    {
     "data": {
      "text/html": [
       "<div>\n",
       "<style scoped>\n",
       "    .dataframe tbody tr th:only-of-type {\n",
       "        vertical-align: middle;\n",
       "    }\n",
       "\n",
       "    .dataframe tbody tr th {\n",
       "        vertical-align: top;\n",
       "    }\n",
       "\n",
       "    .dataframe thead th {\n",
       "        text-align: right;\n",
       "    }\n",
       "</style>\n",
       "<table border=\"1\" class=\"dataframe\">\n",
       "  <thead>\n",
       "    <tr style=\"text-align: right;\">\n",
       "      <th></th>\n",
       "      <th>budget</th>\n",
       "      <th>id</th>\n",
       "      <th>popularity</th>\n",
       "      <th>release_year</th>\n",
       "      <th>revenue</th>\n",
       "      <th>runtime</th>\n",
       "      <th>vote_average</th>\n",
       "      <th>vote_count</th>\n",
       "      <th>rating</th>\n",
       "    </tr>\n",
       "  </thead>\n",
       "  <tbody>\n",
       "    <tr>\n",
       "      <th>count</th>\n",
       "      <td>1.334100e+04</td>\n",
       "      <td>13341.000000</td>\n",
       "      <td>13341.000000</td>\n",
       "      <td>13341.000000</td>\n",
       "      <td>1.334100e+04</td>\n",
       "      <td>13341.000000</td>\n",
       "      <td>13341.000000</td>\n",
       "      <td>13341.000000</td>\n",
       "      <td>13341.000000</td>\n",
       "    </tr>\n",
       "    <tr>\n",
       "      <th>mean</th>\n",
       "      <td>4.373654e+06</td>\n",
       "      <td>104655.621168</td>\n",
       "      <td>3.033345</td>\n",
       "      <td>1992.425980</td>\n",
       "      <td>1.229104e+07</td>\n",
       "      <td>94.711266</td>\n",
       "      <td>5.653444</td>\n",
       "      <td>118.387377</td>\n",
       "      <td>3.055965</td>\n",
       "    </tr>\n",
       "    <tr>\n",
       "      <th>std</th>\n",
       "      <td>1.787296e+07</td>\n",
       "      <td>110608.802579</td>\n",
       "      <td>7.232004</td>\n",
       "      <td>23.483463</td>\n",
       "      <td>7.012271e+07</td>\n",
       "      <td>37.885699</td>\n",
       "      <td>1.866292</td>\n",
       "      <td>532.411707</td>\n",
       "      <td>0.724175</td>\n",
       "    </tr>\n",
       "    <tr>\n",
       "      <th>min</th>\n",
       "      <td>0.000000e+00</td>\n",
       "      <td>11.000000</td>\n",
       "      <td>0.000000</td>\n",
       "      <td>1900.000000</td>\n",
       "      <td>0.000000e+00</td>\n",
       "      <td>0.000000</td>\n",
       "      <td>0.000000</td>\n",
       "      <td>0.000000</td>\n",
       "      <td>0.500000</td>\n",
       "    </tr>\n",
       "    <tr>\n",
       "      <th>25%</th>\n",
       "      <td>0.000000e+00</td>\n",
       "      <td>25550.000000</td>\n",
       "      <td>0.413422</td>\n",
       "      <td>1979.000000</td>\n",
       "      <td>0.000000e+00</td>\n",
       "      <td>86.000000</td>\n",
       "      <td>5.000000</td>\n",
       "      <td>3.000000</td>\n",
       "      <td>2.687500</td>\n",
       "    </tr>\n",
       "    <tr>\n",
       "      <th>50%</th>\n",
       "      <td>0.000000e+00</td>\n",
       "      <td>56482.000000</td>\n",
       "      <td>1.180238</td>\n",
       "      <td>2001.000000</td>\n",
       "      <td>0.000000e+00</td>\n",
       "      <td>95.000000</td>\n",
       "      <td>6.000000</td>\n",
       "      <td>10.000000</td>\n",
       "      <td>3.153846</td>\n",
       "    </tr>\n",
       "    <tr>\n",
       "      <th>75%</th>\n",
       "      <td>0.000000e+00</td>\n",
       "      <td>146270.000000</td>\n",
       "      <td>3.770115</td>\n",
       "      <td>2010.000000</td>\n",
       "      <td>0.000000e+00</td>\n",
       "      <td>107.000000</td>\n",
       "      <td>6.800000</td>\n",
       "      <td>35.000000</td>\n",
       "      <td>3.500000</td>\n",
       "    </tr>\n",
       "    <tr>\n",
       "      <th>max</th>\n",
       "      <td>3.800000e+08</td>\n",
       "      <td>462788.000000</td>\n",
       "      <td>547.488298</td>\n",
       "      <td>2018.000000</td>\n",
       "      <td>2.068224e+09</td>\n",
       "      <td>1140.000000</td>\n",
       "      <td>10.000000</td>\n",
       "      <td>12269.000000</td>\n",
       "      <td>5.000000</td>\n",
       "    </tr>\n",
       "  </tbody>\n",
       "</table>\n",
       "</div>"
      ],
      "text/plain": [
       "             budget             id    popularity  release_year       revenue  \\\n",
       "count  1.334100e+04   13341.000000  13341.000000  13341.000000  1.334100e+04   \n",
       "mean   4.373654e+06  104655.621168      3.033345   1992.425980  1.229104e+07   \n",
       "std    1.787296e+07  110608.802579      7.232004     23.483463  7.012271e+07   \n",
       "min    0.000000e+00      11.000000      0.000000   1900.000000  0.000000e+00   \n",
       "25%    0.000000e+00   25550.000000      0.413422   1979.000000  0.000000e+00   \n",
       "50%    0.000000e+00   56482.000000      1.180238   2001.000000  0.000000e+00   \n",
       "75%    0.000000e+00  146270.000000      3.770115   2010.000000  0.000000e+00   \n",
       "max    3.800000e+08  462788.000000    547.488298   2018.000000  2.068224e+09   \n",
       "\n",
       "            runtime  vote_average    vote_count        rating  \n",
       "count  13341.000000  13341.000000  13341.000000  13341.000000  \n",
       "mean      94.711266      5.653444    118.387377      3.055965  \n",
       "std       37.885699      1.866292    532.411707      0.724175  \n",
       "min        0.000000      0.000000      0.000000      0.500000  \n",
       "25%       86.000000      5.000000      3.000000      2.687500  \n",
       "50%       95.000000      6.000000     10.000000      3.153846  \n",
       "75%      107.000000      6.800000     35.000000      3.500000  \n",
       "max     1140.000000     10.000000  12269.000000      5.000000  "
      ]
     },
     "execution_count": 20,
     "metadata": {},
     "output_type": "execute_result"
    }
   ],
   "source": [
    "movies_ratings.describe()"
   ]
  },
  {
   "cell_type": "markdown",
   "metadata": {},
   "source": [
    "Observaciones acerca del dataframe \n",
    "- El rating parece estar sobre 5 (estrellas problablemente). \n",
    "- No existen variables categoricas dentro del dataframe\n",
    "- Los outliers van a ser eliminados para evitar \"suciedad\" en la data\n",
    "- Las variables en las que podemos detectar Outliers son:\n",
    "    - Runtime\n",
    "    - Rating\n",
    "    - Vote average"
   ]
  },
  {
   "cell_type": "code",
   "execution_count": 21,
   "metadata": {},
   "outputs": [
    {
     "name": "stdout",
     "output_type": "stream",
     "text": [
      "budget          0\n",
      "id              0\n",
      "popularity      0\n",
      "release_year    0\n",
      "revenue         0\n",
      "runtime         0\n",
      "title           0\n",
      "vote_average    0\n",
      "vote_count      0\n",
      "rating          0\n",
      "dtype: int64\n"
     ]
    }
   ],
   "source": [
    "print(movies_ratings.isnull().sum())"
   ]
  },
  {
   "cell_type": "code",
   "execution_count": 22,
   "metadata": {},
   "outputs": [
    {
     "data": {
      "text/plain": [
       "budget          13341\n",
       "id              13341\n",
       "popularity      13341\n",
       "release_year    13341\n",
       "revenue         13341\n",
       "runtime         13341\n",
       "title           13341\n",
       "vote_average    13341\n",
       "vote_count      13341\n",
       "rating          13341\n",
       "dtype: int64"
      ]
     },
     "execution_count": 22,
     "metadata": {},
     "output_type": "execute_result"
    }
   ],
   "source": [
    "movies_ratings.count()"
   ]
  },
  {
   "cell_type": "markdown",
   "metadata": {},
   "source": [
    "## Distributions with outliers"
   ]
  },
  {
   "cell_type": "code",
   "execution_count": 23,
   "metadata": {},
   "outputs": [
    {
     "data": {
      "text/plain": [
       "array([[<matplotlib.axes._subplots.AxesSubplot object at 0x000002BDA82C09B0>]],\n",
       "      dtype=object)"
      ]
     },
     "execution_count": 23,
     "metadata": {},
     "output_type": "execute_result"
    },
    {
     "data": {
      "image/png": "[encoded data removed]",
      "text/plain": [
       "<Figure size 864x576 with 1 Axes>"
      ]
     },
     "metadata": {
      "needs_background": "light"
     },
     "output_type": "display_data"
    }
   ],
   "source": [
    "movies_ratings.hist(column='budget', bins=5, grid=True, figsize=(12,8), color='#86bf91', zorder=2, rwidth=0.9)"
   ]
  },
  {
   "cell_type": "code",
   "execution_count": 24,
   "metadata": {},
   "outputs": [
    {
     "data": {
      "text/plain": [
       "array([[<matplotlib.axes._subplots.AxesSubplot object at 0x000002BDA855E198>]],\n",
       "      dtype=object)"
      ]
     },
     "execution_count": 24,
     "metadata": {},
     "output_type": "execute_result"
    },
    {
     "data": {
      "image/png": "[encoded data removed]",
      "text/plain": [
       "<Figure size 864x576 with 1 Axes>"
      ]
     },
     "metadata": {
      "needs_background": "light"
     },
     "output_type": "display_data"
    }
   ],
   "source": [
    "movies_ratings.hist(column='popularity', grid=True, figsize=(12,8), color='#86bf91', zorder=2, rwidth=0.9)"
   ]
  },
  {
   "cell_type": "code",
   "execution_count": 25,
   "metadata": {},
   "outputs": [
    {
     "data": {
      "text/plain": [
       "array([[<matplotlib.axes._subplots.AxesSubplot object at 0x000002BDA8397438>]],\n",
       "      dtype=object)"
      ]
     },
     "execution_count": 25,
     "metadata": {},
     "output_type": "execute_result"
    },
    {
     "data": {
      "image/png": "[encoded data removed]",
      "text/plain": [
       "<Figure size 864x576 with 1 Axes>"
      ]
     },
     "metadata": {
      "needs_background": "light"
     },
     "output_type": "display_data"
    }
   ],
   "source": [
    "movies_ratings.hist(column='revenue', grid=True, figsize=(12,8), color='#86bf91', zorder=2, rwidth=0.9)"
   ]
  },
  {
   "cell_type": "code",
   "execution_count": 26,
   "metadata": {},
   "outputs": [
    {
     "data": {
      "text/plain": [
       "array([[<matplotlib.axes._subplots.AxesSubplot object at 0x000002BDA871C550>]],\n",
       "      dtype=object)"
      ]
     },
     "execution_count": 26,
     "metadata": {},
     "output_type": "execute_result"
    },
    {
     "data": {
      "image/png": "[encoded data removed]",
      "text/plain": [
       "<Figure size 864x576 with 1 Axes>"
      ]
     },
     "metadata": {
      "needs_background": "light"
     },
     "output_type": "display_data"
    }
   ],
   "source": [
    "movies_ratings.hist(column='runtime', grid=True, figsize=(12,8), color='#86bf91', zorder=2, rwidth=0.9)"
   ]
  },
  {
   "cell_type": "code",
   "execution_count": 27,
   "metadata": {},
   "outputs": [
    {
     "data": {
      "text/plain": [
       "array([[<matplotlib.axes._subplots.AxesSubplot object at 0x000002BDA8959B00>]],\n",
       "      dtype=object)"
      ]
     },
     "execution_count": 27,
     "metadata": {},
     "output_type": "execute_result"
    },
    {
     "data": {
      "image/png": "[encoded data removed]",
      "text/plain": [
       "<Figure size 864x576 with 1 Axes>"
      ]
     },
     "metadata": {
      "needs_background": "light"
     },
     "output_type": "display_data"
    }
   ],
   "source": [
    "movies_ratings.hist(column='rating', grid=True, figsize=(12,8), color='#86bf91', zorder=2, rwidth=0.9)"
   ]
  },
  {
   "cell_type": "markdown",
   "metadata": {},
   "source": [
    "## Detecting outliers"
   ]
  },
  {
   "cell_type": "code",
   "execution_count": 28,
   "metadata": {
    "scrolled": true
   },
   "outputs": [
    {
     "data": {
      "text/plain": [
       "<matplotlib.axes._subplots.AxesSubplot at 0x2bda876cfd0>"
      ]
     },
     "execution_count": 28,
     "metadata": {},
     "output_type": "execute_result"
    },
    {
     "data": {
      "image/png": "[encoded data removed]",
      "text/plain": [
       "<Figure size 432x288 with 1 Axes>"
      ]
     },
     "metadata": {
      "needs_background": "light"
     },
     "output_type": "display_data"
    }
   ],
   "source": [
    "sns.boxplot(x=movies_ratings['budget'])"
   ]
  },
  {
   "cell_type": "code",
   "execution_count": 29,
   "metadata": {
    "scrolled": true
   },
   "outputs": [
    {
     "data": {
      "text/plain": [
       "<matplotlib.axes._subplots.AxesSubplot at 0x2bda8ca2940>"
      ]
     },
     "execution_count": 29,
     "metadata": {},
     "output_type": "execute_result"
    },
    {
     "data": {
      "image/png": "[encoded data removed]",
      "text/plain": [
       "<Figure size 432x288 with 1 Axes>"
      ]
     },
     "metadata": {
      "needs_background": "light"
     },
     "output_type": "display_data"
    }
   ],
   "source": [
    "sns.boxplot(x=movies_ratings['popularity'])"
   ]
  },
  {
   "cell_type": "code",
   "execution_count": 30,
   "metadata": {
    "scrolled": true
   },
   "outputs": [
    {
     "data": {
      "text/plain": [
       "<matplotlib.axes._subplots.AxesSubplot at 0x2bda8cfb9b0>"
      ]
     },
     "execution_count": 30,
     "metadata": {},
     "output_type": "execute_result"
    },
    {
     "data": {
      "image/png": "[encoded data removed]",
      "text/plain": [
       "<Figure size 432x288 with 1 Axes>"
      ]
     },
     "metadata": {
      "needs_background": "light"
     },
     "output_type": "display_data"
    }
   ],
   "source": [
    "sns.boxplot(x=movies_ratings['revenue'])"
   ]
  },
  {
   "cell_type": "code",
   "execution_count": 31,
   "metadata": {
    "scrolled": true
   },
   "outputs": [
    {
     "data": {
      "text/plain": [
       "<matplotlib.axes._subplots.AxesSubplot at 0x2bda8d53c50>"
      ]
     },
     "execution_count": 31,
     "metadata": {},
     "output_type": "execute_result"
    },
    {
     "data": {
      "image/png": "[encoded data removed]",
      "text/plain": [
       "<Figure size 432x288 with 1 Axes>"
      ]
     },
     "metadata": {
      "needs_background": "light"
     },
     "output_type": "display_data"
    }
   ],
   "source": [
    "sns.boxplot(x=movies_ratings['runtime'])"
   ]
  },
  {
   "cell_type": "code",
   "execution_count": 32,
   "metadata": {
    "scrolled": true
   },
   "outputs": [
    {
     "data": {
      "text/plain": [
       "<matplotlib.axes._subplots.AxesSubplot at 0x2bda8da87b8>"
      ]
     },
     "execution_count": 32,
     "metadata": {},
     "output_type": "execute_result"
    },
    {
     "data": {
      "image/png": "[encoded data removed]",
      "text/plain": [
       "<Figure size 432x288 with 1 Axes>"
      ]
     },
     "metadata": {
      "needs_background": "light"
     },
     "output_type": "display_data"
    }
   ],
   "source": [
    "sns.boxplot(x=movies_ratings['rating'])"
   ]
  },
  {
   "cell_type": "code",
   "execution_count": 33,
   "metadata": {
    "scrolled": true
   },
   "outputs": [
    {
     "data": {
      "text/plain": [
       "<matplotlib.axes._subplots.AxesSubplot at 0x2bda8deedd8>"
      ]
     },
     "execution_count": 33,
     "metadata": {},
     "output_type": "execute_result"
    },
    {
     "data": {
      "image/png": "[encoded data removed]",
      "text/plain": [
       "<Figure size 432x288 with 1 Axes>"
      ]
     },
     "metadata": {
      "needs_background": "light"
     },
     "output_type": "display_data"
    }
   ],
   "source": [
    "sns.boxplot(x=movies_ratings['vote_average'])"
   ]
  },
  {
   "cell_type": "code",
   "execution_count": 34,
   "metadata": {
    "scrolled": true
   },
   "outputs": [
    {
     "data": {
      "text/plain": [
       "<matplotlib.axes._subplots.AxesSubplot at 0x2bda8e592e8>"
      ]
     },
     "execution_count": 34,
     "metadata": {},
     "output_type": "execute_result"
    },
    {
     "data": {
      "image/png": "[encoded data removed]",
      "text/plain": [
       "<Figure size 432x288 with 1 Axes>"
      ]
     },
     "metadata": {
      "needs_background": "light"
     },
     "output_type": "display_data"
    }
   ],
   "source": [
    "sns.boxplot(x=movies_ratings['vote_count'])"
   ]
  },
  {
   "cell_type": "code",
   "execution_count": 35,
   "metadata": {},
   "outputs": [
    {
     "data": {
      "text/html": [
       "<div>\n",
       "<style scoped>\n",
       "    .dataframe tbody tr th:only-of-type {\n",
       "        vertical-align: middle;\n",
       "    }\n",
       "\n",
       "    .dataframe tbody tr th {\n",
       "        vertical-align: top;\n",
       "    }\n",
       "\n",
       "    .dataframe thead th {\n",
       "        text-align: right;\n",
       "    }\n",
       "</style>\n",
       "<table border=\"1\" class=\"dataframe\">\n",
       "  <thead>\n",
       "    <tr style=\"text-align: right;\">\n",
       "      <th></th>\n",
       "      <th>budget</th>\n",
       "      <th>id</th>\n",
       "      <th>popularity</th>\n",
       "      <th>release_year</th>\n",
       "      <th>revenue</th>\n",
       "      <th>runtime</th>\n",
       "      <th>title</th>\n",
       "      <th>vote_average</th>\n",
       "      <th>vote_count</th>\n",
       "      <th>rating</th>\n",
       "    </tr>\n",
       "  </thead>\n",
       "  <tbody>\n",
       "    <tr>\n",
       "      <th>0</th>\n",
       "      <td>30000000.0</td>\n",
       "      <td>862.0</td>\n",
       "      <td>21.946943</td>\n",
       "      <td>1995.0</td>\n",
       "      <td>373554033.0</td>\n",
       "      <td>81.0</td>\n",
       "      <td>Toy Story</td>\n",
       "      <td>7.7</td>\n",
       "      <td>5415.0</td>\n",
       "      <td>3.888157</td>\n",
       "    </tr>\n",
       "    <tr>\n",
       "      <th>1</th>\n",
       "      <td>65000000.0</td>\n",
       "      <td>8844.0</td>\n",
       "      <td>17.015539</td>\n",
       "      <td>1995.0</td>\n",
       "      <td>262797249.0</td>\n",
       "      <td>104.0</td>\n",
       "      <td>Jumanji</td>\n",
       "      <td>6.9</td>\n",
       "      <td>2413.0</td>\n",
       "      <td>3.236953</td>\n",
       "    </tr>\n",
       "    <tr>\n",
       "      <th>2</th>\n",
       "      <td>16000000.0</td>\n",
       "      <td>31357.0</td>\n",
       "      <td>3.859495</td>\n",
       "      <td>1995.0</td>\n",
       "      <td>81452156.0</td>\n",
       "      <td>127.0</td>\n",
       "      <td>Waiting to Exhale</td>\n",
       "      <td>6.1</td>\n",
       "      <td>34.0</td>\n",
       "      <td>2.875713</td>\n",
       "    </tr>\n",
       "    <tr>\n",
       "      <th>3</th>\n",
       "      <td>0.0</td>\n",
       "      <td>45325.0</td>\n",
       "      <td>2.561161</td>\n",
       "      <td>1995.0</td>\n",
       "      <td>0.0</td>\n",
       "      <td>97.0</td>\n",
       "      <td>Tom and Huck</td>\n",
       "      <td>5.4</td>\n",
       "      <td>45.0</td>\n",
       "      <td>3.129191</td>\n",
       "    </tr>\n",
       "    <tr>\n",
       "      <th>4</th>\n",
       "      <td>35000000.0</td>\n",
       "      <td>9091.0</td>\n",
       "      <td>5.231580</td>\n",
       "      <td>1995.0</td>\n",
       "      <td>64350171.0</td>\n",
       "      <td>106.0</td>\n",
       "      <td>Sudden Death</td>\n",
       "      <td>5.5</td>\n",
       "      <td>174.0</td>\n",
       "      <td>3.008365</td>\n",
       "    </tr>\n",
       "  </tbody>\n",
       "</table>\n",
       "</div>"
      ],
      "text/plain": [
       "       budget       id  popularity  release_year      revenue  runtime  \\\n",
       "0  30000000.0    862.0   21.946943        1995.0  373554033.0     81.0   \n",
       "1  65000000.0   8844.0   17.015539        1995.0  262797249.0    104.0   \n",
       "2  16000000.0  31357.0    3.859495        1995.0   81452156.0    127.0   \n",
       "3         0.0  45325.0    2.561161        1995.0          0.0     97.0   \n",
       "4  35000000.0   9091.0    5.231580        1995.0   64350171.0    106.0   \n",
       "\n",
       "               title  vote_average  vote_count    rating  \n",
       "0          Toy Story           7.7      5415.0  3.888157  \n",
       "1            Jumanji           6.9      2413.0  3.236953  \n",
       "2  Waiting to Exhale           6.1        34.0  2.875713  \n",
       "3       Tom and Huck           5.4        45.0  3.129191  \n",
       "4       Sudden Death           5.5       174.0  3.008365  "
      ]
     },
     "execution_count": 35,
     "metadata": {},
     "output_type": "execute_result"
    }
   ],
   "source": [
    "backup = movies_ratings\n",
    "backup.head()"
   ]
  },
  {
   "cell_type": "code",
   "execution_count": 36,
   "metadata": {},
   "outputs": [
    {
     "name": "stdout",
     "output_type": "stream",
     "text": [
      "release_year    31.0000\n",
      "runtime         21.0000\n",
      "vote_average     1.8000\n",
      "rating           0.8125\n",
      "dtype: float64\n"
     ]
    }
   ],
   "source": [
    "movies_ratings = movies_ratings.drop(['title', 'id', 'budget', 'vote_count', 'revenue', 'popularity'], axis=1)\n",
    "\n",
    "Q1 = movies_ratings.quantile(0.25)\n",
    "Q3 = movies_ratings.quantile(0.75)\n",
    "IQR = Q3 - Q1\n",
    "print(IQR)\n",
    "\n",
    "#z = np.abs(stats.zscore(movies_ratings))\n",
    "#print(z)\n",
    "\n",
    "#movies_ratings.dtypes"
   ]
  },
  {
   "cell_type": "markdown",
   "metadata": {},
   "source": [
    "### Remove Outliers"
   ]
  },
  {
   "cell_type": "code",
   "execution_count": 37,
   "metadata": {},
   "outputs": [
    {
     "data": {
      "text/plain": [
       "(10471, 10)"
      ]
     },
     "execution_count": 37,
     "metadata": {},
     "output_type": "execute_result"
    }
   ],
   "source": [
    "\n",
    "movies_ratings = backup[~((movies_ratings < (Q1-1.5 * IQR)) |(movies_ratings > (Q3 + 1.5 * IQR))).any(axis=1)]\n",
    "movies_ratings.shape"
   ]
  },
  {
   "cell_type": "code",
   "execution_count": 38,
   "metadata": {},
   "outputs": [
    {
     "data": {
      "text/html": [
       "<div>\n",
       "<style scoped>\n",
       "    .dataframe tbody tr th:only-of-type {\n",
       "        vertical-align: middle;\n",
       "    }\n",
       "\n",
       "    .dataframe tbody tr th {\n",
       "        vertical-align: top;\n",
       "    }\n",
       "\n",
       "    .dataframe thead th {\n",
       "        text-align: right;\n",
       "    }\n",
       "</style>\n",
       "<table border=\"1\" class=\"dataframe\">\n",
       "  <thead>\n",
       "    <tr style=\"text-align: right;\">\n",
       "      <th></th>\n",
       "      <th>budget</th>\n",
       "      <th>id</th>\n",
       "      <th>popularity</th>\n",
       "      <th>release_year</th>\n",
       "      <th>revenue</th>\n",
       "      <th>runtime</th>\n",
       "      <th>title</th>\n",
       "      <th>vote_average</th>\n",
       "      <th>vote_count</th>\n",
       "      <th>rating</th>\n",
       "    </tr>\n",
       "  </thead>\n",
       "  <tbody>\n",
       "    <tr>\n",
       "      <th>0</th>\n",
       "      <td>30000000.0</td>\n",
       "      <td>862.0</td>\n",
       "      <td>21.946943</td>\n",
       "      <td>1995.0</td>\n",
       "      <td>373554033.0</td>\n",
       "      <td>81.0</td>\n",
       "      <td>Toy Story</td>\n",
       "      <td>7.7</td>\n",
       "      <td>5415.0</td>\n",
       "      <td>3.888157</td>\n",
       "    </tr>\n",
       "    <tr>\n",
       "      <th>1</th>\n",
       "      <td>65000000.0</td>\n",
       "      <td>8844.0</td>\n",
       "      <td>17.015539</td>\n",
       "      <td>1995.0</td>\n",
       "      <td>262797249.0</td>\n",
       "      <td>104.0</td>\n",
       "      <td>Jumanji</td>\n",
       "      <td>6.9</td>\n",
       "      <td>2413.0</td>\n",
       "      <td>3.236953</td>\n",
       "    </tr>\n",
       "    <tr>\n",
       "      <th>2</th>\n",
       "      <td>16000000.0</td>\n",
       "      <td>31357.0</td>\n",
       "      <td>3.859495</td>\n",
       "      <td>1995.0</td>\n",
       "      <td>81452156.0</td>\n",
       "      <td>127.0</td>\n",
       "      <td>Waiting to Exhale</td>\n",
       "      <td>6.1</td>\n",
       "      <td>34.0</td>\n",
       "      <td>2.875713</td>\n",
       "    </tr>\n",
       "    <tr>\n",
       "      <th>3</th>\n",
       "      <td>0.0</td>\n",
       "      <td>45325.0</td>\n",
       "      <td>2.561161</td>\n",
       "      <td>1995.0</td>\n",
       "      <td>0.0</td>\n",
       "      <td>97.0</td>\n",
       "      <td>Tom and Huck</td>\n",
       "      <td>5.4</td>\n",
       "      <td>45.0</td>\n",
       "      <td>3.129191</td>\n",
       "    </tr>\n",
       "    <tr>\n",
       "      <th>4</th>\n",
       "      <td>35000000.0</td>\n",
       "      <td>9091.0</td>\n",
       "      <td>5.231580</td>\n",
       "      <td>1995.0</td>\n",
       "      <td>64350171.0</td>\n",
       "      <td>106.0</td>\n",
       "      <td>Sudden Death</td>\n",
       "      <td>5.5</td>\n",
       "      <td>174.0</td>\n",
       "      <td>3.008365</td>\n",
       "    </tr>\n",
       "    <tr>\n",
       "      <th>5</th>\n",
       "      <td>0.0</td>\n",
       "      <td>12110.0</td>\n",
       "      <td>5.430331</td>\n",
       "      <td>1995.0</td>\n",
       "      <td>0.0</td>\n",
       "      <td>88.0</td>\n",
       "      <td>Dracula: Dead and Loving It</td>\n",
       "      <td>5.7</td>\n",
       "      <td>210.0</td>\n",
       "      <td>2.672179</td>\n",
       "    </tr>\n",
       "    <tr>\n",
       "      <th>7</th>\n",
       "      <td>30000000.0</td>\n",
       "      <td>9273.0</td>\n",
       "      <td>8.205448</td>\n",
       "      <td>1995.0</td>\n",
       "      <td>212385533.0</td>\n",
       "      <td>90.0</td>\n",
       "      <td>Ace Ventura: When Nature Calls</td>\n",
       "      <td>6.1</td>\n",
       "      <td>1128.0</td>\n",
       "      <td>2.633983</td>\n",
       "    </tr>\n",
       "    <tr>\n",
       "      <th>8</th>\n",
       "      <td>50000000.0</td>\n",
       "      <td>9691.0</td>\n",
       "      <td>11.065939</td>\n",
       "      <td>1995.0</td>\n",
       "      <td>30303072.0</td>\n",
       "      <td>132.0</td>\n",
       "      <td>Assassins</td>\n",
       "      <td>6.0</td>\n",
       "      <td>394.0</td>\n",
       "      <td>3.157631</td>\n",
       "    </tr>\n",
       "    <tr>\n",
       "      <th>9</th>\n",
       "      <td>0.0</td>\n",
       "      <td>16420.0</td>\n",
       "      <td>1.845899</td>\n",
       "      <td>1995.0</td>\n",
       "      <td>0.0</td>\n",
       "      <td>123.0</td>\n",
       "      <td>Othello</td>\n",
       "      <td>7.0</td>\n",
       "      <td>33.0</td>\n",
       "      <td>3.614058</td>\n",
       "    </tr>\n",
       "    <tr>\n",
       "      <th>10</th>\n",
       "      <td>0.0</td>\n",
       "      <td>37557.0</td>\n",
       "      <td>1.100915</td>\n",
       "      <td>1995.0</td>\n",
       "      <td>0.0</td>\n",
       "      <td>108.0</td>\n",
       "      <td>Shanghai Triad</td>\n",
       "      <td>6.5</td>\n",
       "      <td>17.0</td>\n",
       "      <td>3.636900</td>\n",
       "    </tr>\n",
       "    <tr>\n",
       "      <th>11</th>\n",
       "      <td>0.0</td>\n",
       "      <td>47018.0</td>\n",
       "      <td>1.493361</td>\n",
       "      <td>1995.0</td>\n",
       "      <td>0.0</td>\n",
       "      <td>121.0</td>\n",
       "      <td>Carrington</td>\n",
       "      <td>6.4</td>\n",
       "      <td>16.0</td>\n",
       "      <td>3.501596</td>\n",
       "    </tr>\n",
       "    <tr>\n",
       "      <th>12</th>\n",
       "      <td>11000000.0</td>\n",
       "      <td>687.0</td>\n",
       "      <td>6.891317</td>\n",
       "      <td>1995.0</td>\n",
       "      <td>39363635.0</td>\n",
       "      <td>122.0</td>\n",
       "      <td>Dead Man Walking</td>\n",
       "      <td>7.3</td>\n",
       "      <td>350.0</td>\n",
       "      <td>3.931582</td>\n",
       "    </tr>\n",
       "    <tr>\n",
       "      <th>13</th>\n",
       "      <td>0.0</td>\n",
       "      <td>34615.0</td>\n",
       "      <td>0.894647</td>\n",
       "      <td>1995.0</td>\n",
       "      <td>676525.0</td>\n",
       "      <td>106.0</td>\n",
       "      <td>Cry, the Beloved Country</td>\n",
       "      <td>6.7</td>\n",
       "      <td>13.0</td>\n",
       "      <td>3.650953</td>\n",
       "    </tr>\n",
       "    <tr>\n",
       "      <th>14</th>\n",
       "      <td>19000000.0</td>\n",
       "      <td>35196.0</td>\n",
       "      <td>10.979269</td>\n",
       "      <td>1995.0</td>\n",
       "      <td>0.0</td>\n",
       "      <td>117.0</td>\n",
       "      <td>Restoration</td>\n",
       "      <td>6.3</td>\n",
       "      <td>30.0</td>\n",
       "      <td>3.467997</td>\n",
       "    </tr>\n",
       "    <tr>\n",
       "      <th>15</th>\n",
       "      <td>0.0</td>\n",
       "      <td>8391.0</td>\n",
       "      <td>3.302524</td>\n",
       "      <td>1995.0</td>\n",
       "      <td>0.0</td>\n",
       "      <td>96.0</td>\n",
       "      <td>When Night Is Falling</td>\n",
       "      <td>5.9</td>\n",
       "      <td>10.0</td>\n",
       "      <td>3.564885</td>\n",
       "    </tr>\n",
       "    <tr>\n",
       "      <th>16</th>\n",
       "      <td>0.0</td>\n",
       "      <td>117164.0</td>\n",
       "      <td>0.595949</td>\n",
       "      <td>1994.0</td>\n",
       "      <td>0.0</td>\n",
       "      <td>93.0</td>\n",
       "      <td>Guardian Angel</td>\n",
       "      <td>6.3</td>\n",
       "      <td>3.0</td>\n",
       "      <td>2.588235</td>\n",
       "    </tr>\n",
       "    <tr>\n",
       "      <th>17</th>\n",
       "      <td>0.0</td>\n",
       "      <td>49133.0</td>\n",
       "      <td>1.361286</td>\n",
       "      <td>1994.0</td>\n",
       "      <td>0.0</td>\n",
       "      <td>116.0</td>\n",
       "      <td>Lamerica</td>\n",
       "      <td>7.7</td>\n",
       "      <td>11.0</td>\n",
       "      <td>3.701258</td>\n",
       "    </tr>\n",
       "    <tr>\n",
       "      <th>18</th>\n",
       "      <td>0.0</td>\n",
       "      <td>124057.0</td>\n",
       "      <td>0.307075</td>\n",
       "      <td>1997.0</td>\n",
       "      <td>0.0</td>\n",
       "      <td>89.0</td>\n",
       "      <td>Kids of the Round Table</td>\n",
       "      <td>3.0</td>\n",
       "      <td>1.0</td>\n",
       "      <td>2.060241</td>\n",
       "    </tr>\n",
       "    <tr>\n",
       "      <th>19</th>\n",
       "      <td>0.0</td>\n",
       "      <td>19760.0</td>\n",
       "      <td>2.174487</td>\n",
       "      <td>1996.0</td>\n",
       "      <td>0.0</td>\n",
       "      <td>96.0</td>\n",
       "      <td>Two If by Sea</td>\n",
       "      <td>4.5</td>\n",
       "      <td>14.0</td>\n",
       "      <td>2.837523</td>\n",
       "    </tr>\n",
       "    <tr>\n",
       "      <th>20</th>\n",
       "      <td>15000000.0</td>\n",
       "      <td>9536.0</td>\n",
       "      <td>6.387469</td>\n",
       "      <td>1996.0</td>\n",
       "      <td>0.0</td>\n",
       "      <td>88.0</td>\n",
       "      <td>Bio-Dome</td>\n",
       "      <td>4.4</td>\n",
       "      <td>110.0</td>\n",
       "      <td>2.403340</td>\n",
       "    </tr>\n",
       "    <tr>\n",
       "      <th>21</th>\n",
       "      <td>0.0</td>\n",
       "      <td>11525.0</td>\n",
       "      <td>2.495350</td>\n",
       "      <td>1996.0</td>\n",
       "      <td>2409225.0</td>\n",
       "      <td>92.0</td>\n",
       "      <td>Lawnmower Man 2: Beyond Cyberspace</td>\n",
       "      <td>2.8</td>\n",
       "      <td>32.0</td>\n",
       "      <td>2.159488</td>\n",
       "    </tr>\n",
       "    <tr>\n",
       "      <th>22</th>\n",
       "      <td>0.0</td>\n",
       "      <td>4482.0</td>\n",
       "      <td>2.518051</td>\n",
       "      <td>1995.0</td>\n",
       "      <td>0.0</td>\n",
       "      <td>95.0</td>\n",
       "      <td>French Twist</td>\n",
       "      <td>6.0</td>\n",
       "      <td>43.0</td>\n",
       "      <td>3.455860</td>\n",
       "    </tr>\n",
       "    <tr>\n",
       "      <th>23</th>\n",
       "      <td>0.0</td>\n",
       "      <td>46785.0</td>\n",
       "      <td>1.196256</td>\n",
       "      <td>1995.0</td>\n",
       "      <td>0.0</td>\n",
       "      <td>85.0</td>\n",
       "      <td>The White Balloon</td>\n",
       "      <td>7.5</td>\n",
       "      <td>20.0</td>\n",
       "      <td>3.724916</td>\n",
       "    </tr>\n",
       "    <tr>\n",
       "      <th>24</th>\n",
       "      <td>0.0</td>\n",
       "      <td>8447.0</td>\n",
       "      <td>2.151660</td>\n",
       "      <td>1995.0</td>\n",
       "      <td>0.0</td>\n",
       "      <td>118.0</td>\n",
       "      <td>Angels and Insects</td>\n",
       "      <td>6.3</td>\n",
       "      <td>17.0</td>\n",
       "      <td>3.538339</td>\n",
       "    </tr>\n",
       "    <tr>\n",
       "      <th>25</th>\n",
       "      <td>0.0</td>\n",
       "      <td>61548.0</td>\n",
       "      <td>0.411424</td>\n",
       "      <td>1995.0</td>\n",
       "      <td>0.0</td>\n",
       "      <td>91.0</td>\n",
       "      <td>The Journey of August King</td>\n",
       "      <td>6.7</td>\n",
       "      <td>3.0</td>\n",
       "      <td>3.340000</td>\n",
       "    </tr>\n",
       "  </tbody>\n",
       "</table>\n",
       "</div>"
      ],
      "text/plain": [
       "        budget        id  popularity  release_year      revenue  runtime  \\\n",
       "0   30000000.0     862.0   21.946943        1995.0  373554033.0     81.0   \n",
       "1   65000000.0    8844.0   17.015539        1995.0  262797249.0    104.0   \n",
       "2   16000000.0   31357.0    3.859495        1995.0   81452156.0    127.0   \n",
       "3          0.0   45325.0    2.561161        1995.0          0.0     97.0   \n",
       "4   35000000.0    9091.0    5.231580        1995.0   64350171.0    106.0   \n",
       "5          0.0   12110.0    5.430331        1995.0          0.0     88.0   \n",
       "7   30000000.0    9273.0    8.205448        1995.0  212385533.0     90.0   \n",
       "8   50000000.0    9691.0   11.065939        1995.0   30303072.0    132.0   \n",
       "9          0.0   16420.0    1.845899        1995.0          0.0    123.0   \n",
       "10         0.0   37557.0    1.100915        1995.0          0.0    108.0   \n",
       "11         0.0   47018.0    1.493361        1995.0          0.0    121.0   \n",
       "12  11000000.0     687.0    6.891317        1995.0   39363635.0    122.0   \n",
       "13         0.0   34615.0    0.894647        1995.0     676525.0    106.0   \n",
       "14  19000000.0   35196.0   10.979269        1995.0          0.0    117.0   \n",
       "15         0.0    8391.0    3.302524        1995.0          0.0     96.0   \n",
       "16         0.0  117164.0    0.595949        1994.0          0.0     93.0   \n",
       "17         0.0   49133.0    1.361286        1994.0          0.0    116.0   \n",
       "18         0.0  124057.0    0.307075        1997.0          0.0     89.0   \n",
       "19         0.0   19760.0    2.174487        1996.0          0.0     96.0   \n",
       "20  15000000.0    9536.0    6.387469        1996.0          0.0     88.0   \n",
       "21         0.0   11525.0    2.495350        1996.0    2409225.0     92.0   \n",
       "22         0.0    4482.0    2.518051        1995.0          0.0     95.0   \n",
       "23         0.0   46785.0    1.196256        1995.0          0.0     85.0   \n",
       "24         0.0    8447.0    2.151660        1995.0          0.0    118.0   \n",
       "25         0.0   61548.0    0.411424        1995.0          0.0     91.0   \n",
       "\n",
       "                                 title  vote_average  vote_count    rating  \n",
       "0                            Toy Story           7.7      5415.0  3.888157  \n",
       "1                              Jumanji           6.9      2413.0  3.236953  \n",
       "2                    Waiting to Exhale           6.1        34.0  2.875713  \n",
       "3                         Tom and Huck           5.4        45.0  3.129191  \n",
       "4                         Sudden Death           5.5       174.0  3.008365  \n",
       "5          Dracula: Dead and Loving It           5.7       210.0  2.672179  \n",
       "7       Ace Ventura: When Nature Calls           6.1      1128.0  2.633983  \n",
       "8                            Assassins           6.0       394.0  3.157631  \n",
       "9                              Othello           7.0        33.0  3.614058  \n",
       "10                      Shanghai Triad           6.5        17.0  3.636900  \n",
       "11                          Carrington           6.4        16.0  3.501596  \n",
       "12                    Dead Man Walking           7.3       350.0  3.931582  \n",
       "13            Cry, the Beloved Country           6.7        13.0  3.650953  \n",
       "14                         Restoration           6.3        30.0  3.467997  \n",
       "15               When Night Is Falling           5.9        10.0  3.564885  \n",
       "16                      Guardian Angel           6.3         3.0  2.588235  \n",
       "17                            Lamerica           7.7        11.0  3.701258  \n",
       "18             Kids of the Round Table           3.0         1.0  2.060241  \n",
       "19                       Two If by Sea           4.5        14.0  2.837523  \n",
       "20                            Bio-Dome           4.4       110.0  2.403340  \n",
       "21  Lawnmower Man 2: Beyond Cyberspace           2.8        32.0  2.159488  \n",
       "22                        French Twist           6.0        43.0  3.455860  \n",
       "23                   The White Balloon           7.5        20.0  3.724916  \n",
       "24                  Angels and Insects           6.3        17.0  3.538339  \n",
       "25          The Journey of August King           6.7         3.0  3.340000  "
      ]
     },
     "execution_count": 38,
     "metadata": {},
     "output_type": "execute_result"
    }
   ],
   "source": [
    "movies_ratings.head(25)"
   ]
  },
  {
   "cell_type": "markdown",
   "metadata": {},
   "source": [
    "## Distributions without outliers"
   ]
  },
  {
   "cell_type": "code",
   "execution_count": 39,
   "metadata": {},
   "outputs": [
    {
     "data": {
      "text/plain": [
       "array([[<matplotlib.axes._subplots.AxesSubplot object at 0x000002BDA8EED4E0>]],\n",
       "      dtype=object)"
      ]
     },
     "execution_count": 39,
     "metadata": {},
     "output_type": "execute_result"
    },
    {
     "data": {
      "image/png": "[encoded data removed]",
      "text/plain": [
       "<Figure size 864x576 with 1 Axes>"
      ]
     },
     "metadata": {
      "needs_background": "light"
     },
     "output_type": "display_data"
    }
   ],
   "source": [
    "movies_ratings.hist(column='budget', bins=5, grid=True, figsize=(12,8), color='#86bf91', zorder=2, rwidth=0.9)"
   ]
  },
  {
   "cell_type": "code",
   "execution_count": 40,
   "metadata": {},
   "outputs": [
    {
     "data": {
      "text/plain": [
       "array([[<matplotlib.axes._subplots.AxesSubplot object at 0x000002BDA915FDD8>]],\n",
       "      dtype=object)"
      ]
     },
     "execution_count": 40,
     "metadata": {},
     "output_type": "execute_result"
    },
    {
     "data": {
      "image/png": "[encoded data removed]",
      "text/plain": [
       "<Figure size 864x576 with 1 Axes>"
      ]
     },
     "metadata": {
      "needs_background": "light"
     },
     "output_type": "display_data"
    }
   ],
   "source": [
    "movies_ratings.hist(column='popularity', grid=True, figsize=(12,8), color='#86bf91', zorder=2, rwidth=0.9)"
   ]
  },
  {
   "cell_type": "code",
   "execution_count": 41,
   "metadata": {},
   "outputs": [
    {
     "data": {
      "text/plain": [
       "array([[<matplotlib.axes._subplots.AxesSubplot object at 0x000002BDA8F96FD0>]],\n",
       "      dtype=object)"
      ]
     },
     "execution_count": 41,
     "metadata": {},
     "output_type": "execute_result"
    },
    {
     "data": {
      "image/png": "[encoded data removed]",
      "text/plain": [
       "<Figure size 864x576 with 1 Axes>"
      ]
     },
     "metadata": {
      "needs_background": "light"
     },
     "output_type": "display_data"
    }
   ],
   "source": [
    "movies_ratings.hist(column='revenue', grid=True, figsize=(12,8), color='#86bf91', zorder=2, rwidth=0.9)"
   ]
  },
  {
   "cell_type": "code",
   "execution_count": 42,
   "metadata": {},
   "outputs": [
    {
     "data": {
      "text/plain": [
       "array([[<matplotlib.axes._subplots.AxesSubplot object at 0x000002BDA92E4400>]],\n",
       "      dtype=object)"
      ]
     },
     "execution_count": 42,
     "metadata": {},
     "output_type": "execute_result"
    },
    {
     "data": {
      "image/png": "[encoded data removed]",
      "text/plain": [
       "<Figure size 864x576 with 1 Axes>"
      ]
     },
     "metadata": {
      "needs_background": "light"
     },
     "output_type": "display_data"
    }
   ],
   "source": [
    "movies_ratings.hist(column='runtime', grid=True, figsize=(12,8), color='#86bf91', zorder=2, rwidth=0.9)"
   ]
  },
  {
   "cell_type": "code",
   "execution_count": 43,
   "metadata": {},
   "outputs": [
    {
     "data": {
      "text/plain": [
       "array([[<matplotlib.axes._subplots.AxesSubplot object at 0x000002BDA953F748>]],\n",
       "      dtype=object)"
      ]
     },
     "execution_count": 43,
     "metadata": {},
     "output_type": "execute_result"
    },
    {
     "data": {
      "image/png": "[encoded data removed]",
      "text/plain": [
       "<Figure size 864x576 with 1 Axes>"
      ]
     },
     "metadata": {
      "needs_background": "light"
     },
     "output_type": "display_data"
    }
   ],
   "source": [
    "movies_ratings.hist(column='rating', grid=True, figsize=(12,8), color='#86bf91', zorder=2, rwidth=0.9)"
   ]
  },
  {
   "cell_type": "markdown",
   "metadata": {},
   "source": [
    "## Finding Correlation"
   ]
  },
  {
   "cell_type": "code",
   "execution_count": 44,
   "metadata": {},
   "outputs": [
    {
     "data": {
      "text/html": [
       "<div>\n",
       "<style scoped>\n",
       "    .dataframe tbody tr th:only-of-type {\n",
       "        vertical-align: middle;\n",
       "    }\n",
       "\n",
       "    .dataframe tbody tr th {\n",
       "        vertical-align: top;\n",
       "    }\n",
       "\n",
       "    .dataframe thead th {\n",
       "        text-align: right;\n",
       "    }\n",
       "</style>\n",
       "<table border=\"1\" class=\"dataframe\">\n",
       "  <thead>\n",
       "    <tr style=\"text-align: right;\">\n",
       "      <th></th>\n",
       "      <th>budget</th>\n",
       "      <th>id</th>\n",
       "      <th>popularity</th>\n",
       "      <th>release_year</th>\n",
       "      <th>revenue</th>\n",
       "      <th>runtime</th>\n",
       "      <th>vote_average</th>\n",
       "      <th>vote_count</th>\n",
       "      <th>rating</th>\n",
       "    </tr>\n",
       "  </thead>\n",
       "  <tbody>\n",
       "    <tr>\n",
       "      <th>budget</th>\n",
       "      <td>1.000000</td>\n",
       "      <td>-0.084339</td>\n",
       "      <td>0.355779</td>\n",
       "      <td>0.141544</td>\n",
       "      <td>0.758981</td>\n",
       "      <td>0.195953</td>\n",
       "      <td>0.028224</td>\n",
       "      <td>0.644341</td>\n",
       "      <td>0.010322</td>\n",
       "    </tr>\n",
       "    <tr>\n",
       "      <th>id</th>\n",
       "      <td>-0.084339</td>\n",
       "      <td>1.000000</td>\n",
       "      <td>-0.021849</td>\n",
       "      <td>0.365755</td>\n",
       "      <td>-0.059334</td>\n",
       "      <td>-0.087526</td>\n",
       "      <td>-0.008294</td>\n",
       "      <td>-0.038256</td>\n",
       "      <td>-0.033085</td>\n",
       "    </tr>\n",
       "    <tr>\n",
       "      <th>popularity</th>\n",
       "      <td>0.355779</td>\n",
       "      <td>-0.021849</td>\n",
       "      <td>1.000000</td>\n",
       "      <td>0.110267</td>\n",
       "      <td>0.460018</td>\n",
       "      <td>0.135577</td>\n",
       "      <td>0.079957</td>\n",
       "      <td>0.500896</td>\n",
       "      <td>0.057146</td>\n",
       "    </tr>\n",
       "    <tr>\n",
       "      <th>release_year</th>\n",
       "      <td>0.141544</td>\n",
       "      <td>0.365755</td>\n",
       "      <td>0.110267</td>\n",
       "      <td>1.000000</td>\n",
       "      <td>0.091828</td>\n",
       "      <td>0.067803</td>\n",
       "      <td>-0.073069</td>\n",
       "      <td>0.116695</td>\n",
       "      <td>-0.041309</td>\n",
       "    </tr>\n",
       "    <tr>\n",
       "      <th>revenue</th>\n",
       "      <td>0.758981</td>\n",
       "      <td>-0.059334</td>\n",
       "      <td>0.460018</td>\n",
       "      <td>0.091828</td>\n",
       "      <td>1.000000</td>\n",
       "      <td>0.159726</td>\n",
       "      <td>0.081467</td>\n",
       "      <td>0.803086</td>\n",
       "      <td>0.060809</td>\n",
       "    </tr>\n",
       "    <tr>\n",
       "      <th>runtime</th>\n",
       "      <td>0.195953</td>\n",
       "      <td>-0.087526</td>\n",
       "      <td>0.135577</td>\n",
       "      <td>0.067803</td>\n",
       "      <td>0.159726</td>\n",
       "      <td>1.000000</td>\n",
       "      <td>0.165942</td>\n",
       "      <td>0.179765</td>\n",
       "      <td>0.163761</td>\n",
       "    </tr>\n",
       "    <tr>\n",
       "      <th>vote_average</th>\n",
       "      <td>0.028224</td>\n",
       "      <td>-0.008294</td>\n",
       "      <td>0.079957</td>\n",
       "      <td>-0.073069</td>\n",
       "      <td>0.081467</td>\n",
       "      <td>0.165942</td>\n",
       "      <td>1.000000</td>\n",
       "      <td>0.135625</td>\n",
       "      <td>0.515075</td>\n",
       "    </tr>\n",
       "    <tr>\n",
       "      <th>vote_count</th>\n",
       "      <td>0.644341</td>\n",
       "      <td>-0.038256</td>\n",
       "      <td>0.500896</td>\n",
       "      <td>0.116695</td>\n",
       "      <td>0.803086</td>\n",
       "      <td>0.179765</td>\n",
       "      <td>0.135625</td>\n",
       "      <td>1.000000</td>\n",
       "      <td>0.121963</td>\n",
       "    </tr>\n",
       "    <tr>\n",
       "      <th>rating</th>\n",
       "      <td>0.010322</td>\n",
       "      <td>-0.033085</td>\n",
       "      <td>0.057146</td>\n",
       "      <td>-0.041309</td>\n",
       "      <td>0.060809</td>\n",
       "      <td>0.163761</td>\n",
       "      <td>0.515075</td>\n",
       "      <td>0.121963</td>\n",
       "      <td>1.000000</td>\n",
       "    </tr>\n",
       "  </tbody>\n",
       "</table>\n",
       "</div>"
      ],
      "text/plain": [
       "                budget        id  popularity  release_year   revenue  \\\n",
       "budget        1.000000 -0.084339    0.355779      0.141544  0.758981   \n",
       "id           -0.084339  1.000000   -0.021849      0.365755 -0.059334   \n",
       "popularity    0.355779 -0.021849    1.000000      0.110267  0.460018   \n",
       "release_year  0.141544  0.365755    0.110267      1.000000  0.091828   \n",
       "revenue       0.758981 -0.059334    0.460018      0.091828  1.000000   \n",
       "runtime       0.195953 -0.087526    0.135577      0.067803  0.159726   \n",
       "vote_average  0.028224 -0.008294    0.079957     -0.073069  0.081467   \n",
       "vote_count    0.644341 -0.038256    0.500896      0.116695  0.803086   \n",
       "rating        0.010322 -0.033085    0.057146     -0.041309  0.060809   \n",
       "\n",
       "               runtime  vote_average  vote_count    rating  \n",
       "budget        0.195953      0.028224    0.644341  0.010322  \n",
       "id           -0.087526     -0.008294   -0.038256 -0.033085  \n",
       "popularity    0.135577      0.079957    0.500896  0.057146  \n",
       "release_year  0.067803     -0.073069    0.116695 -0.041309  \n",
       "revenue       0.159726      0.081467    0.803086  0.060809  \n",
       "runtime       1.000000      0.165942    0.179765  0.163761  \n",
       "vote_average  0.165942      1.000000    0.135625  0.515075  \n",
       "vote_count    0.179765      0.135625    1.000000  0.121963  \n",
       "rating        0.163761      0.515075    0.121963  1.000000  "
      ]
     },
     "execution_count": 44,
     "metadata": {},
     "output_type": "execute_result"
    },
    {
     "data": {
      "image/png": "[encoded data removed]",
      "text/plain": [
       "<Figure size 1440x720 with 2 Axes>"
      ]
     },
     "metadata": {
      "needs_background": "light"
     },
     "output_type": "display_data"
    }
   ],
   "source": [
    "# Finding the relations between the variables.\n",
    "plt.figure(figsize=(20,10))\n",
    "c= movies_ratings.corr()\n",
    "sns.heatmap(c,cmap='BrBG',annot=True)\n",
    "c"
   ]
  },
  {
   "cell_type": "markdown",
   "metadata": {},
   "source": [
    "Las correlaciones que se pueden observar son las siguientes: \n",
    "- Budget vs Revenue\n",
    "- Budget vs Vote count\n",
    "- Vote average vs Rating"
   ]
  },
  {
   "cell_type": "markdown",
   "metadata": {},
   "source": [
    "## Budget vs Revenue"
   ]
  },
  {
   "cell_type": "code",
   "execution_count": 45,
   "metadata": {},
   "outputs": [
    {
     "data": {
      "image/png": "[encoded data removed]",
      "text/plain": [
       "<Figure size 432x288 with 1 Axes>"
      ]
     },
     "metadata": {
      "needs_background": "light"
     },
     "output_type": "display_data"
    }
   ],
   "source": [
    "# Plotting a scatter plot\n",
    "#fig, ax = plt.subplots(figsize=(10,6))\n",
    "#ax.scatter(movies_ratings['budget'], movies_ratings['revenue'])\n",
    "#ax.set_xlabel('Budget')\n",
    "#ax.set_ylabel('Revenue')\n",
    "\n",
    "x = movies_ratings['budget']\n",
    "y = movies_ratings['revenue']\n",
    "plt.scatter(x, y)\n",
    "\n",
    "plt.title(\"Budget vs Revenue\")\n",
    "plt.xlabel(\"Budget\")\n",
    "plt.ylabel(\"Revenue\")\n",
    "\n",
    "z = np.polyfit(x, y, 1)\n",
    "p = np.poly1d(z)\n",
    "plt.plot(x,p(x),\"r--\")\n",
    "\n",
    "\n",
    "plt.show()"
   ]
  },
  {
   "cell_type": "markdown",
   "metadata": {},
   "source": [
    "Podemos ver como el Revenue aumenta mientras aumenta el budget. Pero aumenta hasta cierto punto donde un mayor budget no necesariamente va a representar un mayor revenue."
   ]
  },
  {
   "cell_type": "code",
   "execution_count": 46,
   "metadata": {},
   "outputs": [
    {
     "data": {
      "image/png": "[encoded data removed]",
      "text/plain": [
       "<Figure size 432x288 with 1 Axes>"
      ]
     },
     "metadata": {
      "needs_background": "light"
     },
     "output_type": "display_data"
    }
   ],
   "source": [
    "x = movies_ratings['budget']\n",
    "y = movies_ratings['vote_count']\n",
    "plt.scatter(x, y)\n",
    "\n",
    "plt.title(\"Budget vs Vote count\")\n",
    "plt.xlabel(\"Budget\")\n",
    "plt.ylabel(\"Vote count\")\n",
    "\n",
    "z = np.polyfit(x, y, 1)\n",
    "p = np.poly1d(z)\n",
    "plt.plot(x,p(x),\"r--\")\n",
    "\n",
    "\n",
    "plt.show()"
   ]
  },
  {
   "cell_type": "markdown",
   "metadata": {},
   "source": [
    "Podemos ver como la cantidad de votos también tiende a aumentar con el budget de una pelicula, "
   ]
  },
  {
   "cell_type": "code",
   "execution_count": 47,
   "metadata": {},
   "outputs": [
    {
     "data": {
      "image/png": "[encoded data removed]",
      "text/plain": [
       "<Figure size 432x288 with 1 Axes>"
      ]
     },
     "metadata": {
      "needs_background": "light"
     },
     "output_type": "display_data"
    }
   ],
   "source": [
    "x = movies_ratings['vote_count']\n",
    "y = movies_ratings['revenue']\n",
    "plt.scatter(x, y)\n",
    "\n",
    "plt.title(\"Vote count vs Revenue\")\n",
    "plt.xlabel(\"Vote count\")\n",
    "plt.ylabel(\"Revenue\")\n",
    "\n",
    "z = np.polyfit(x, y, 1)\n",
    "p = np.poly1d(z)\n",
    "plt.plot(x,p(x),\"r--\")\n",
    "\n",
    "\n",
    "plt.show()"
   ]
  },
  {
   "cell_type": "markdown",
   "metadata": {},
   "source": [
    "Tambien existe una correlacion entre la la cantidad de votos y el revenue de una pelicula, donde entre más votan las personas esas peliculas tienden a tener un mayor revenue. Pero al igual que en la comparación con el budget, tiende a haber un limite de crecimiento del revenue. "
   ]
  },
  {
   "cell_type": "markdown",
   "metadata": {},
   "source": [
    "## Conclusiones"
   ]
  },
  {
   "cell_type": "markdown",
   "metadata": {},
   "source": [
    "- Usualmente un mayor budget va a representar un mayor revenue para la pelicula, pero tiene un limite y no es algo garantizado\n",
    "- Se podría suponer que una mayor budget o un mayor revenue tendría una correlacion positiva con el rating de una pelicula, pero el análisis demostró que no existe una correlacion entre estas variables. \n",
    "- La mayoria de peliculas tienen un budget, revenue y popularity muy parecido o cercano, en base a los histogramas. \n",
    "- El eliminar outliers con el método IQR Score no pudo un mayor impacto en el analisis. \n"
   ]
  },
  {
   "cell_type": "code",
   "execution_count": null,
   "metadata": {},
   "outputs": [],
   "source": []
  }
 ],
 "metadata": {
  "kernelspec": {
   "display_name": "Python 3",
   "language": "python",
   "name": "python3"
  },
  "language_info": {
   "codemirror_mode": {
    "name": "ipython",
    "version": 3
   },
   "file_extension": ".py",
   "mimetype": "text/x-python",
   "name": "python",
   "nbconvert_exporter": "python",
   "pygments_lexer": "ipython3",
   "version": "3.7.1"
  }
 },
 "nbformat": 4,
 "nbformat_minor": 2
}
